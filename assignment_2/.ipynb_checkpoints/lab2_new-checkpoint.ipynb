{
 "cells": [
  {
   "cell_type": "markdown",
   "metadata": {
    "nbgrader": {
     "grade": false,
     "grade_id": "cell-8d856208da5d0763",
     "locked": true,
     "schema_version": 1,
     "solution": false
    }
   },
   "source": [
    "# Lab 2: Classification\n",
    "\n",
    "### Machine Learning 1, November 2018\n",
    "\n",
    "Notes on implementation:\n",
    "\n",
    "* You should write your code and answers in this IPython Notebook: http://ipython.org/notebook.html. If you have problems, please contact your teaching assistant.\n",
    "* Please write your answers right below the questions.\n",
    "* Among the first lines of your notebook should be \"%pylab inline\". This imports all required modules, and your plots will appear inline.\n",
    "* Use the provided test cells to check if your answers are correct\n",
    "* **Make sure your output and plots are correct before handing in your assignment with Kernel -> Restart & Run All**\n",
    "\n",
    "* **If possible, all your implementations should be vectorized and rely on loops as little as possible. Therefore for some questions, we give you a maximum number of loops that are necessary for an efficient implementation. This number refers to the loops in this particular function and does not count the ones in functions that are called from the function. You should not go above this number for the maximum number of points.**\n",
    "\n",
    "$\\newcommand{\\bx}{\\mathbf{x}}$\n",
    "$\\newcommand{\\bw}{\\mathbf{w}}$\n",
    "$\\newcommand{\\bt}{\\mathbf{t}}$\n",
    "$\\newcommand{\\by}{\\mathbf{y}}$\n",
    "$\\newcommand{\\bm}{\\mathbf{m}}$\n",
    "$\\newcommand{\\bb}{\\mathbf{b}}$\n",
    "$\\newcommand{\\bS}{\\mathbf{S}}$\n",
    "$\\newcommand{\\ba}{\\mathbf{a}}$\n",
    "$\\newcommand{\\bz}{\\mathbf{z}}$\n",
    "$\\newcommand{\\bv}{\\mathbf{v}}$\n",
    "$\\newcommand{\\bq}{\\mathbf{q}}$\n",
    "$\\newcommand{\\bp}{\\mathbf{p}}$\n",
    "$\\newcommand{\\bh}{\\mathbf{h}}$\n",
    "$\\newcommand{\\bI}{\\mathbf{I}}$\n",
    "$\\newcommand{\\bX}{\\mathbf{X}}$\n",
    "$\\newcommand{\\bT}{\\mathbf{T}}$\n",
    "$\\newcommand{\\bPhi}{\\mathbf{\\Phi}}$\n",
    "$\\newcommand{\\bW}{\\mathbf{W}}$\n",
    "$\\newcommand{\\bV}{\\mathbf{V}}$"
   ]
  },
  {
   "cell_type": "code",
   "execution_count": 2,
   "metadata": {
    "nbgrader": {
     "grade": false,
     "grade_id": "cell-422dbc02437671ac",
     "locked": true,
     "schema_version": 1,
     "solution": false
    }
   },
   "outputs": [
    {
     "name": "stdout",
     "output_type": "stream",
     "text": [
      "Populating the interactive namespace from numpy and matplotlib\n"
     ]
    }
   ],
   "source": [
    "%pylab inline\n",
    "plt.rcParams[\"figure.figsize\"] = [9,5]\n",
    "\n",
    "import time\n",
    "start = time.time()"
   ]
  },
  {
   "cell_type": "code",
   "execution_count": 3,
   "metadata": {
    "nbgrader": {
     "grade": false,
     "grade_id": "cell-7f215df0e22ae748",
     "locked": true,
     "schema_version": 1,
     "solution": false
    }
   },
   "outputs": [],
   "source": [
    "# This cell makes sure that you have all the necessary libraries installed\n",
    "\n",
    "import sys\n",
    "import platform\n",
    "from importlib.util import find_spec, module_from_spec\n",
    "\n",
    "def check_newer_version(version_inst, version_nec):\n",
    "    version_inst_split = version_inst.split('.')\n",
    "    version_nec_split = version_nec.split('.')\n",
    "    for i in range(min(len(version_inst_split), len(version_nec_split))):\n",
    "        if int(version_nec_split[i]) > int(version_inst_split[i]):\n",
    "            return False\n",
    "        elif int(version_nec_split[i]) < int(version_inst_split[i]):\n",
    "            return True\n",
    "    return True\n",
    "        \n",
    "    \n",
    "module_list = [('jupyter', '1.0.0'), \n",
    "               ('matplotlib', '2.0.2'), \n",
    "               ('numpy', '1.13.1'), \n",
    "               ('python', '3.6.2'), \n",
    "               ('sklearn', '0.19.0'), \n",
    "               ('scipy', '0.19.1'), \n",
    "               ('nb_conda', '2.2.1')]\n",
    "\n",
    "packages_correct = True\n",
    "packages_errors = []\n",
    "\n",
    "for module_name, version in module_list:\n",
    "    if module_name == 'scikit-learn':\n",
    "        module_name = 'sklearn'\n",
    "    if module_name == 'pyyaml':\n",
    "        module_name = 'yaml'\n",
    "    if 'python' in module_name:\n",
    "        python_version = platform.python_version()\n",
    "        if not check_newer_version(python_version, version):\n",
    "            packages_correct = False\n",
    "            error = f'Update {module_name} to version {version}. Current version is {python_version}.'\n",
    "            packages_errors.append(error) \n",
    "            print(error)\n",
    "    else:\n",
    "        spec = find_spec(module_name)\n",
    "        if spec is None:\n",
    "            packages_correct = False\n",
    "            error = f'Install {module_name} with version {version} or newer, it is required for this assignment!'\n",
    "            packages_errors.append(error) \n",
    "            print(error)\n",
    "        else:\n",
    "            x =__import__(module_name)\n",
    "            if hasattr(x, '__version__') and not check_newer_version(x.__version__, version):\n",
    "                packages_correct = False\n",
    "                error = f'Update {module_name} to version {version}. Current version is {x.__version__}.'\n",
    "                packages_errors.append(error) \n",
    "                print(error)\n",
    "\n",
    "try:\n",
    "    from google.colab import drive\n",
    "    packages_correct = False\n",
    "    error = \"\"\"Please, don't use google colab!\n",
    "It will make it much more complicated for us to check your homework as it merges all the cells into one.\"\"\"\n",
    "    packages_errors.append(error) \n",
    "    print(error)\n",
    "except:\n",
    "    pass\n",
    "\n",
    "packages_errors = '\\n'.join(packages_errors)"
   ]
  },
  {
   "cell_type": "markdown",
   "metadata": {
    "nbgrader": {
     "grade": false,
     "grade_id": "cell-821f67d8cd14e4f7",
     "locked": true,
     "schema_version": 1,
     "solution": false
    }
   },
   "source": [
    "# Part 1. Multiclass logistic regression\n",
    "\n",
    "Scenario: you have a friend with one big problem: she's completely blind. You decided to help her: she has a special smartphone for blind people, and you are going to develop a mobile phone app that can do _machine vision_ using the mobile camera: converting a picture (from the camera) to the meaning of the image. You decide to start with an app that can read handwritten digits, i.e. convert an image of handwritten digits to text (e.g. it would enable her to read precious handwritten phone numbers).\n",
    "\n",
    "A key building block for such an app would be a function `predict_digit(x)` that returns the digit class of an image patch $\\bx$. Since hand-coding this function is highly non-trivial, you decide to solve this problem using machine learning, such that the internal parameters of this function are automatically learned using machine learning techniques.\n",
    "\n",
    "The dataset you're going to use for this is the MNIST handwritten digits dataset (`http://yann.lecun.com/exdb/mnist/`). You can download the data with scikit learn, and load it as follows:"
   ]
  },
  {
   "cell_type": "code",
   "execution_count": 4,
   "metadata": {
    "nbgrader": {
     "grade": false,
     "grade_id": "cell-bcdbc957165abae7",
     "locked": true,
     "schema_version": 1,
     "solution": false
    }
   },
   "outputs": [
    {
     "name": "stderr",
     "output_type": "stream",
     "text": [
      "/home/david/.local/lib/python3.6/site-packages/sklearn/utils/deprecation.py:77: DeprecationWarning: Function fetch_mldata is deprecated; fetch_mldata was deprecated in version 0.20 and will be removed in version 0.22\n",
      "  warnings.warn(msg, category=DeprecationWarning)\n",
      "/home/david/.local/lib/python3.6/site-packages/sklearn/utils/deprecation.py:77: DeprecationWarning: Function mldata_filename is deprecated; mldata_filename was deprecated in version 0.20 and will be removed in version 0.22\n",
      "  warnings.warn(msg, category=DeprecationWarning)\n"
     ]
    }
   ],
   "source": [
    "from sklearn.datasets import fetch_mldata\n",
    "import os\n",
    "# Fetch the data\n",
    "try:\n",
    "    mnist = fetch_mldata('MNIST original', data_home='.')\n",
    "except Exception:\n",
    "    raise FileNotFoundError('Please download mnist-original.mat from Canvas and put it in %s/mldata' % os.getcwd())\n",
    "data, target = mnist.data, mnist.target.astype('int')\n",
    "# Shuffle\n",
    "indices = np.arange(len(data))\n",
    "np.random.seed(123)\n",
    "np.random.shuffle(indices)\n",
    "data, target = data[indices].astype('float32'), target[indices]\n",
    "\n",
    "# Normalize the data between 0.0 and 1.0:\n",
    "data /= 255. \n",
    "\n",
    "# Split\n",
    "x_train, x_valid, x_test = data[:50000], data[50000:60000], data[60000: 70000]\n",
    "t_train, t_valid, t_test = target[:50000], target[50000:60000], target[60000: 70000]"
   ]
  },
  {
   "cell_type": "markdown",
   "metadata": {
    "nbgrader": {
     "grade": false,
     "grade_id": "cell-b7b4a5a96dccf229",
     "locked": true,
     "schema_version": 1,
     "solution": false
    }
   },
   "source": [
    "MNIST consists of small 28 by 28 pixel images of written digits (0-9). We split the dataset into a training, validation and testing arrays. The variables `x_train`, `x_valid` and `x_test` are $N \\times M$ matrices, where $N$ is the number of datapoints in the respective set, and $M = 28^2 = 784$ is the dimensionality of the data. The second set of variables `t_train`, `t_valid` and `t_test` contain the corresponding $N$-dimensional vector of integers, containing the true class labels.\n",
    "\n",
    "Here's a visualisation of the first 8 digits of the trainingset:"
   ]
  },
  {
   "cell_type": "code",
   "execution_count": 5,
   "metadata": {
    "nbgrader": {
     "grade": false,
     "grade_id": "cell-48a92c0a2a2bf4dd",
     "locked": true,
     "schema_version": 1,
     "solution": false
    }
   },
   "outputs": [
    {
     "data": {
      "image/png": "[encoded data removed]",
      "text/plain": [
       "<Figure size 432x288 with 16 Axes>"
      ]
     },
     "metadata": {
      "needs_background": "light"
     },
     "output_type": "display_data"
    }
   ],
   "source": [
    "def plot_digits(data, num_cols, targets=None, shape=(28,28)):\n",
    "    num_digits = data.shape[0]\n",
    "    num_rows = int(num_digits/num_cols)\n",
    "    for i in range(num_digits):\n",
    "        plt.subplot(num_rows, num_cols, i+1)\n",
    "        plt.imshow(data[i].reshape(shape), interpolation='none', cmap='Greys')\n",
    "        if targets is not None:\n",
    "            plt.title(int(targets[i]))\n",
    "        plt.colorbar()\n",
    "        plt.axis('off')\n",
    "    plt.tight_layout()\n",
    "    plt.show()\n",
    "    \n",
    "plot_digits(x_train[0:40000:5000], num_cols=4, targets=t_train[0:40000:5000])"
   ]
  },
  {
   "cell_type": "markdown",
   "metadata": {
    "nbgrader": {
     "grade": false,
     "grade_id": "cell-3eb664a58e03bf42",
     "locked": true,
     "schema_version": 1,
     "solution": false
    }
   },
   "source": [
    "In _multiclass_ logistic regression, the conditional probability of class label $j$ given the image $\\bx$ for some datapoint is given by:\n",
    "\n",
    "$ \\log p(t = j \\;|\\; \\bx, \\bb, \\bW) = \\log q_j - \\log Z$\n",
    "\n",
    "where $\\log q_j = \\bw_j^T \\bx + b_j$ (the log of the unnormalized probability of the class $j$), and $Z = \\sum_k q_k$ is the normalizing factor. $\\bw_j$ is the $j$-th column of $\\bW$ (a matrix of size $784 \\times 10$) corresponding to the class label, $b_j$ is the $j$-th element of $\\bb$.\n",
    "\n",
    "Given an input image, the multiclass logistic regression model first computes the intermediate vector $\\log \\bq$ (of size $10 \\times 1$), using $\\log q_j = \\bw_j^T \\bx + b_j$, containing the unnormalized log-probabilities per class. \n",
    "\n",
    "The unnormalized probabilities are then normalized by $Z$ such that $\\sum_j p_j = \\sum_j \\exp(\\log p_j) = 1$. This is done by $\\log p_j = \\log q_j - \\log Z$ where $Z = \\sum_i \\exp(\\log q_i)$. This is known as the _softmax_ transformation, and is also used as a last layer of many classifcation neural network models, to ensure that the output of the network is a normalized distribution, regardless of the values of second-to-last layer ($\\log \\bq$)\n",
    "\n",
    "**Warning**: when computing $\\log Z$, you are likely to encounter numerical problems. Save yourself countless hours of debugging and learn the [log-sum-exp trick](https://www.xarg.org/2016/06/the-log-sum-exp-trick-in-machine-learning/ \"Title\").\n",
    "\n",
    "The network's output $\\log \\bp$ of size $10 \\times 1$ then contains the conditional log-probabilities $\\log p(t = j \\;|\\; \\bx, \\bb, \\bW)$ for each digit class $j$. In summary, the computations are done in this order:\n",
    "\n",
    "$\\bx \\rightarrow \\log \\bq \\rightarrow Z \\rightarrow \\log \\bp$\n",
    "\n",
    "Given some dataset with $N$ independent, identically distributed datapoints, the log-likelihood is given by:\n",
    "\n",
    "$ \\mathcal{L}(\\bb, \\bW) = \\sum_{n=1}^N \\mathcal{L}^{(n)}$\n",
    "\n",
    "where we use $\\mathcal{L}^{(n)}$ to denote the partial log-likelihood evaluated over a single datapoint. It is important to see that the log-probability of the class label $t^{(n)}$ given the image, is given by the $t^{(n)}$-th element of the network's output $\\log \\bp$, denoted by $\\log p_{t^{(n)}}$:\n",
    "\n",
    "$\\mathcal{L}^{(n)} = \\log p(t = t^{(n)} \\;|\\; \\bx = \\bx^{(n)}, \\bb, \\bW) = \\log p_{t^{(n)}} = \\log q_{t^{(n)}} - \\log Z^{(n)}$\n",
    "\n",
    "where $\\bx^{(n)}$ and $t^{(n)}$ are the input (image) and class label (integer) of the $n$-th datapoint, and $Z^{(n)}$ is the normalizing constant for the distribution over $t^{(n)}$.\n"
   ]
  },
  {
   "cell_type": "markdown",
   "metadata": {
    "nbgrader": {
     "grade": false,
     "grade_id": "cell-17766ee789f11384",
     "locked": true,
     "schema_version": 1,
     "solution": false
    }
   },
   "source": [
    "## 1.1 Gradient-based stochastic optimization\n",
    "### 1.1.1 Derive gradient equations (20 points)\n",
    "\n",
    "Derive the equations for computing the (first) partial derivatives of the log-likelihood w.r.t. all the parameters, evaluated at a _single_ datapoint $n$.\n",
    "\n",
    "You should start deriving the equations for $\\frac{\\partial \\mathcal{L}^{(n)}}{\\partial \\log q_j}$ for each $j$. For clarity, we'll use the shorthand $\\delta^q_j = \\frac{\\partial \\mathcal{L}^{(n)}}{\\partial \\log q_j}$.\n",
    "\n",
    "For $j = t^{(n)}$:\n",
    "$$\n",
    "\\delta^q_j\n",
    "= \\frac{\\partial \\log q_{t^{(n)}}}{\\partial \\log q_j}\n",
    "-\n",
    "\\frac{\\partial \\log Z}{\\partial Z} \n",
    "\\frac{\\partial Z}{\\partial \\log q_j} \n",
    "= 1\n",
    "-\n",
    "\\frac{\\partial \\log Z}{\\partial Z} \n",
    "\\frac{\\partial Z}{\\partial \\log q_j} \n",
    "$$\n",
    "\n",
    "For $j \\neq t^{(n)}$:\n",
    "$$\n",
    "\\delta^q_j\n",
    "= \\frac{\\partial \\log q_{t^{(n)}}}{\\partial \\log q_j}\n",
    "-\n",
    "\\frac{\\partial \\log Z}{\\partial Z} \n",
    "\\frac{\\partial Z}{\\partial \\log q_j} \n",
    "=0 - \\frac{\\partial \\log Z}{\\partial Z} \n",
    "\\frac{\\partial Z}{\\partial \\log q_j}\n",
    "$$\n",
    "\n",
    "Complete the above derivations for $\\delta^q_j$ by furtherly developing $\\frac{\\partial \\log Z}{\\partial Z}$ and $\\frac{\\partial Z}{\\partial \\log q_j}$. Both are quite simple. For these it doesn't matter whether $j = t^{(n)}$ or not.\n",
    "\n"
   ]
  },
  {
   "cell_type": "markdown",
   "metadata": {
    "nbgrader": {
     "grade": true,
     "grade_id": "cell-e40110444a1e1d3f",
     "locked": false,
     "points": 10,
     "schema_version": 1,
     "solution": true
    }
   },
   "source": [
    "For $j = t^{(n)}$:\n",
    "\\begin{align}\n",
    "\\delta^q_j\n",
    "&=\n",
    "\\end{align}\n",
    "For $j \\neq t^{(n)}$:\n",
    "\\begin{align}\n",
    "\\delta^q_j\n",
    "&= \n",
    "\\end{align}\n",
    "### BEGIN SOLUTION\n",
    "For $j = t^{(n)}$:\n",
    "\n",
    "\\begin{align}\n",
    "\\delta^q_j\n",
    "&= 1 - \\frac{\\partial \\log Z}{\\partial Z} \\frac{\\partial Z}{\\partial \\log q_j} \\\\\n",
    "&= 1 - \\frac{1}{Z}\\frac{\\partial Z}{\\partial \\log q_j} \\\\\n",
    "&= 1 - \\frac{\\exp(\\log q_j)}{Z}\\\\\n",
    "&= 1 - \\frac{\\exp (\\log q_j)}{\\sum_k \\exp (\\log q_k)}\n",
    "\\end{align}\n",
    "\n",
    "For $j \\neq t^{(n)}$:\n",
    "$$\n",
    "\\delta^q_j\n",
    "= - \\frac{\\exp (\\log q_j)}{Z} = - \\frac{\\exp (\\log q_j)}{\\sum_k \\exp (\\log q_k)}\n",
    "$$\n",
    "### END SOLUTION"
   ]
  },
  {
   "cell_type": "markdown",
   "metadata": {
    "nbgrader": {
     "grade": false,
     "grade_id": "cell-c770cfe1389ca4ff",
     "locked": true,
     "schema_version": 1,
     "solution": false
    }
   },
   "source": [
    "Given your equations for computing the gradients $\\delta^q_j$ it should be quite straightforward to derive the equations for the gradients of the parameters of the model, $\\frac{\\partial \\mathcal{L}^{(n)}}{\\partial W_{ij}}$ and $\\frac{\\partial \\mathcal{L}^{(n)}}{\\partial b_j}$. The gradients for the biases $\\bb$ are given by:\n",
    "\n",
    "$\n",
    "\\frac{\\partial \\mathcal{L}^{(n)}}{\\partial b_j}\n",
    "= \\frac{\\partial \\mathcal{L}^{(n)}}{\\partial \\log q_j}\n",
    "\\frac{\\partial \\log q_j}{\\partial b_j}\n",
    "= \\delta^q_j\n",
    "\\cdot 1\n",
    "= \\delta^q_j\n",
    "$\n",
    "\n",
    "The equation above gives the derivative of $\\mathcal{L}^{(n)}$ w.r.t. a single element of $\\bb$, so the vector $\\nabla_\\bb \\mathcal{L}^{(n)}$ with all derivatives of $\\mathcal{L}^{(n)}$ w.r.t. the bias parameters $\\bb$ is: \n",
    "\n",
    "$\n",
    "\\nabla_\\bb \\mathcal{L}^{(n)} = \\mathbf{\\delta}^q\n",
    "$\n",
    "\n",
    "where $\\mathbf{\\delta}^q$ denotes the vector of size $10 \\times 1$ with elements $\\mathbf{\\delta}_j^q$.\n",
    "\n",
    "The (not fully developed) equation for computing the derivative of $\\mathcal{L}^{(n)}$ w.r.t. a single element $W_{ij}$ of $\\bW$ is:\n",
    "\n",
    "$\n",
    "\\frac{\\partial \\mathcal{L}^{(n)}}{\\partial W_{ij}} =\n",
    "\\frac{\\partial \\mathcal{L}^{(n)}}{\\partial \\log q_j}\n",
    "\\frac{\\partial \\log q_j}{\\partial W_{ij}}\n",
    "= \\mathbf{\\delta}_j^q\n",
    "\\frac{\\partial \\log q_j}{\\partial W_{ij}}\n",
    "$\n",
    "\n",
    "What is $\\frac{\\partial \\log q_j}{\\partial W_{ij}}$? Complete the equation above.\n",
    "\n",
    "If you want, you can give the resulting equation in vector format ($\\nabla_{\\bw_j} \\mathcal{L}^{(n)} = ...$), like we did for $\\nabla_\\bb \\mathcal{L}^{(n)}$."
   ]
  },
  {
   "cell_type": "markdown",
   "metadata": {
    "nbgrader": {
     "grade": true,
     "grade_id": "cell-e40110444a1asdfasdfd3f",
     "locked": false,
     "points": 10,
     "schema_version": 1,
     "solution": true
    }
   },
   "source": [
    "### BEGIN SOLUTION\n",
    "$\n",
    "\\frac{\\partial \\log q_j}{\\partial W_{ij}}\n",
    "= x_i\n",
    "$\n",
    "\n",
    "$\n",
    "\\frac{\\partial \\mathcal{L}^{(n)}}{\\partial W_{ij}}\n",
    "= \\delta_j^q x_i\n",
    "$\n",
    "### END SOLUTION"
   ]
  },
  {
   "cell_type": "markdown",
   "metadata": {
    "nbgrader": {
     "grade": false,
     "grade_id": "cell-b0f28b0924b9983d",
     "locked": true,
     "schema_version": 1,
     "solution": false
    }
   },
   "source": [
    "### 1.1.2 Implement gradient computations (15 points)\n",
    "\n",
    "Implement the gradient calculations you derived in the previous question. Write a function `logreg_gradient(x, t, w, b)` that returns the gradients $\\nabla_{\\bw_j} \\mathcal{L}^{(n)}$ (for each $j$) and $\\nabla_{\\bb} \\mathcal{L}^{(n)}$, i.e. the first partial derivatives of the log-likelihood w.r.t. the parameters $\\bW$ and $\\bb$, evaluated at a single datapoint (`x`, `t`).\n",
    "The computation will contain roughly the following intermediate variables:\n",
    "\n",
    "$\n",
    "\\log \\bq \\rightarrow Z \\rightarrow \\log \\bp\\,,\\, \\mathbf{\\delta}^q\n",
    "$\n",
    "\n",
    "followed by computation of the gradient vectors $\\nabla_{\\bw_j} \\mathcal{L}^{(n)}$ (contained in a $784 \\times 10$ matrix) and $\\nabla_{\\bb} \\mathcal{L}^{(n)}$ (a $10 \\times 1$ vector).\n",
    "\n",
    "For maximum points, ensure the function is numerically stable.\n"
   ]
  },
  {
   "cell_type": "code",
   "execution_count": null,
   "metadata": {
    "nbgrader": {
     "grade": false,
     "grade_id": "cell-6858f885be587480",
     "locked": false,
     "schema_version": 1,
     "solution": true
    }
   },
   "outputs": [],
   "source": [
    "# 1.1.2 Compute gradient of log p(t|x;w,b) wrt w and b\n",
    "def logreg_gradient(x, t, w, b):\n",
    "    \n",
    "    ### BEGIN SOLUTION\n",
    "    # print x.shape, t, w.shape, b.shape\n",
    "    # ------------------------------------------\n",
    "    # [x] = M (28**2 = 1, 768) vector (one data point)\n",
    "    # [t] = 1 scalar (one data point)\n",
    "    # [w] = features (M x 10 matrix)\n",
    "    # [b] = bias feature (10 vector)\n",
    "    \n",
    "    logq = np.dot(x, w) + b\n",
    "    # logz = np.log(np.exp(logq).sum())\n",
    "    # Log-sum-exp trick:\n",
    "    amax = np.max(logq, axis=-1, keepdims=True)\n",
    "    logz = amax + np.log(np.sum(np.exp(logq - amax), axis=-1, keepdims=True))\n",
    "    logp = logq - logz   # log prob of the inputs\n",
    "    dL_dlogq = -((np.exp(logq)) / (np.exp(logq).sum(axis=-1, keepdims=True) + 1e-9)) # + 1e-9 to prevent zero division\n",
    "    dL_dlogq[:, t] += 1   # add 1 to when j = t (see the theory in the question above)\n",
    "    \n",
    "\n",
    "    # Gradients\n",
    "    # dL_db = delta^i_j\n",
    "    # dL_dwij = dL_dlogqi * dlogqi_dwij = dLi_dlogq * xj\n",
    "    dL_db = dL_dlogq\n",
    "    dL_dw = np.outer(x, dL_dlogq)\n",
    "#     print('logq',   logq.max(), logq.min())\n",
    "#     print('logz',   logz.max(), logz.min())\n",
    "#     print('logp',   logp.max(), logp.min())\n",
    "#     print('dllogq', dL_dlogq.max(), dL_dlogq.min())\n",
    "#     print('dldw',   dL_dw.max(), dL_dw.min())\n",
    "    ### END SOLUTION\n",
    "    \n",
    "    # here the statement contains logp[:,t] where logp is meant tas a matrix of shape 1x10\n",
    "    \n",
    "    return logp[:,t].squeeze(), dL_dw, dL_db.squeeze()\n"
   ]
  },
  {
   "cell_type": "code",
   "execution_count": 6,
   "metadata": {
    "nbgrader": {
     "grade": true,
     "grade_id": "cell-48057487182fe951",
     "locked": true,
     "points": 5,
     "schema_version": 1,
     "solution": false
    }
   },
   "outputs": [],
   "source": [
    "# Hidden tests for efficiency\n",
    "### BEGIN HIDDEN TESTS\n",
    "# For an efficient implementation, **no loops** are necessary.\n",
    "### END HIDDEN TESTS"
   ]
  },
  {
   "cell_type": "code",
   "execution_count": 7,
   "metadata": {
    "nbgrader": {
     "grade": true,
     "grade_id": "cell-1c9659f607b151a2",
     "locked": true,
     "points": 4,
     "schema_version": 1,
     "solution": false
    },
    "scrolled": false
   },
   "outputs": [
    {
     "name": "stdout",
     "output_type": "stream",
     "text": [
      "Test gradient on one point\n",
      "Log Likelihood:\t -2.2959726720744777\n",
      "\n",
      "Grad_W_ij\t (784, 10) matrix\n",
      "Grad_W_ij[0,152:158]=\t [-0.04518971 -0.06758809 -0.07819784 -0.09077237 -0.07584012 -0.06365855]\n",
      "\n",
      "Grad_B_i shape\t (10,) vector\n",
      "Grad_B_i=\t [-0.10020327 -0.09977827 -0.1003198   0.89933657 -0.10037941 -0.10072863\n",
      " -0.09982729 -0.09928672 -0.09949324 -0.09931994]\n",
      "i in {0,...,9}; j in M\n"
     ]
    }
   ],
   "source": [
    "np.random.seed(123)\n",
    "# scalar, 10 X 768  matrix, 10 X 1 vector\n",
    "w = np.random.normal(size=(28*28,10), scale=0.001)\n",
    "# w = np.zeros((784,10))\n",
    "b = np.zeros((10,))\n",
    "\n",
    "# test gradients, train on 1 sample\n",
    "logpt, grad_w, grad_b = logreg_gradient(x_train[0:1,:], t_train[0:1], w, b)\n",
    "\n",
    "print(\"Test gradient on one point\")\n",
    "print(\"Log Likelihood:\\t\", logpt)\n",
    "print(\"\\nGrad_W_ij\\t\",grad_w.shape,\"matrix\")\n",
    "print(\"Grad_W_ij[0,152:158]=\\t\", grad_w[152:158,0])\n",
    "print(\"\\nGrad_B_i shape\\t\",grad_b.shape,\"vector\")\n",
    "print(\"Grad_B_i=\\t\", grad_b.T)\n",
    "print(\"i in {0,...,9}; j in M\")\n",
    "\n",
    "assert logpt.shape == (), logpt.shape\n",
    "assert grad_w.shape == (784, 10), grad_w.shape\n",
    "assert grad_b.shape == (10,), grad_b.shape\n",
    "\n",
    "\n",
    "### BEGIN HIDDEN TESTS\n",
    "assert np.allclose(logpt.squeeze(), -2.2959726720744777, atol=1e-2)\n",
    "assert np.allclose(grad_w[152:158,0], np.array([-0.04518971, -0.06758809, -0.07819784, -0.09077237, -0.07584012, -0.06365855\n",
    "]), atol=1e-2)\n",
    "assert np.allclose(grad_b.T, np.array([-0.10020327, -0.09977827, -0.1003198, 0.89933657, -0.10037941, -0.10072863, -0.09982729, -0.09928672, -0.09949324, -0.09931994\n",
    "]), atol=1e-2)\n",
    "### END HIDDEN TESTS\n"
   ]
  },
  {
   "cell_type": "code",
   "execution_count": 8,
   "metadata": {
    "nbgrader": {
     "grade": true,
     "grade_id": "cell-fd59c3a03a87ab83",
     "locked": true,
     "points": 4,
     "schema_version": 1,
     "solution": false
    }
   },
   "outputs": [
    {
     "name": "stdout",
     "output_type": "stream",
     "text": [
      "Finite difference error grad_w: 6.3592232206e-07\n",
      "Finite difference error grad_b: 5.23283794973e-08\n"
     ]
    }
   ],
   "source": [
    "# It's always good to check your gradient implementations with finite difference checking:\n",
    "# Scipy provides the check_grad function, which requires flat input variables.\n",
    "# So we write two helper functions that provide the gradient and output with 'flat' weights:\n",
    "from scipy.optimize import check_grad\n",
    "\n",
    "np.random.seed(123)\n",
    "# scalar, 10 X 768  matrix, 10 X 1 vector\n",
    "w = np.random.normal(size=(28*28,10), scale=0.001)\n",
    "# w = np.zeros((784,10))\n",
    "b = np.zeros((10,))\n",
    "\n",
    "def func(w):\n",
    "    logpt, grad_w, grad_b = logreg_gradient(x_train[0:1,:], t_train[0:1], w.reshape(784,10), b)\n",
    "    return logpt\n",
    "def grad(w):\n",
    "    logpt, grad_w, grad_b = logreg_gradient(x_train[0:1,:], t_train[0:1], w.reshape(784,10), b)\n",
    "    return grad_w.flatten()\n",
    "finite_diff_error = check_grad(func, grad, w.flatten())\n",
    "print('Finite difference error grad_w:', finite_diff_error)\n",
    "assert finite_diff_error < 1e-3, 'Your gradient computation for w seems off'\n",
    "\n",
    "def func(b):\n",
    "    logpt, grad_w, grad_b = logreg_gradient(x_train[0:1,:], t_train[0:1], w, b)\n",
    "    return logpt\n",
    "def grad(b):\n",
    "    logpt, grad_w, grad_b = logreg_gradient(x_train[0:1,:], t_train[0:1], w, b)\n",
    "    return grad_b.flatten()\n",
    "finite_diff_error = check_grad(func, grad, b)\n",
    "print('Finite difference error grad_b:', finite_diff_error)\n",
    "assert finite_diff_error < 1e-3, 'Your gradient computation for b seems off'\n",
    "\n"
   ]
  },
  {
   "cell_type": "code",
   "execution_count": 9,
   "metadata": {
    "nbgrader": {
     "grade": true,
     "grade_id": "cell-91b8c5eb86f6a0f3",
     "locked": true,
     "points": 2,
     "schema_version": 1,
     "solution": false
    }
   },
   "outputs": [
    {
     "name": "stdout",
     "output_type": "stream",
     "text": [
      "-25.348713480384866\n"
     ]
    }
   ],
   "source": [
    "# DO NOT REMOVE THIS CELL!\n",
    "# It contains hidden tests\n",
    "\n",
    "# BEGIN HIDDEN TESTS\n",
    "# Test for numerical stability\n",
    "np.random.seed(1243)\n",
    "w = np.random.normal(size=(28*28, 10), scale=1)\n",
    "b = np.zeros((10,))\n",
    "logpt, grad_w, grad_b = logreg_gradient(x_train[1:2,:], t_train[1:2], w, b)\n",
    "print(logpt)\n",
    "assert np.allclose(logpt.squeeze(),-25.348713480384866, atol=10)\n",
    "### END HIDDEN TESTS"
   ]
  },
  {
   "cell_type": "markdown",
   "metadata": {
    "nbgrader": {
     "grade": false,
     "grade_id": "cell-bdce061b39aaacec",
     "locked": true,
     "schema_version": 1,
     "solution": false
    }
   },
   "source": [
    "\n",
    "### 1.1.3 Stochastic gradient descent (15 points)\n",
    "\n",
    "Write a function `sgd_iter(x_train, t_train, w, b)` that performs one iteration of stochastic gradient descent (SGD), and returns the new weights. It should go through the trainingset once in randomized order, call `logreg_gradient(x, t, w, b)` for each datapoint to get the gradients, and update the parameters **using a small learning rate of `1e-6`**. Note that in this case we're maximizing the likelihood function, so we should actually performing gradient ___ascent___... For more information about SGD, see Bishop 5.2.4 or an online source (i.e. https://en.wikipedia.org/wiki/Stochastic_gradient_descent)"
   ]
  },
  {
   "cell_type": "code",
   "execution_count": 10,
   "metadata": {
    "nbgrader": {
     "grade": true,
     "grade_id": "cell-86bf84658f1c5bc8",
     "locked": false,
     "points": 5,
     "schema_version": 1,
     "solution": true
    }
   },
   "outputs": [],
   "source": [
    "def sgd_iter(x_train, t_train, W, b):\n",
    "    ### BEGIN SOLUTION\n",
    "    eta = 1e-4\n",
    "    r = np.arange(len(t_train))\n",
    "    np.random.shuffle(r)\n",
    "    \n",
    "    logp_train = 0\n",
    "    for i in r:\n",
    "        x = x_train[i:i + 1,:]\n",
    "        t = t_train[i:i + 1]\n",
    "        logpt, dL_dw, dL_db = logreg_gradient(x, t, W, b)\n",
    "        logp_train += logpt\n",
    "        W = W + eta * dL_dw\n",
    "        b = b + eta * dL_db\n",
    "    # Correct solutions with for loops will get 75%\n",
    "    \n",
    "    ### END SOLUTION\n",
    "    return logp_train, W, b"
   ]
  },
  {
   "cell_type": "code",
   "execution_count": 11,
   "metadata": {
    "nbgrader": {
     "grade": true,
     "grade_id": "cell-0929d502114babdb",
     "locked": true,
     "points": 5,
     "schema_version": 1,
     "solution": false
    }
   },
   "outputs": [],
   "source": [
    "# Hidden tests for efficiency\n",
    "### BEGIN HIDDEN TESTS\n",
    "# For an efficient implementation, **no more than 1 loop** is necessary.\n",
    "### END HIDDEN TESTS"
   ]
  },
  {
   "cell_type": "code",
   "execution_count": 12,
   "metadata": {
    "nbgrader": {
     "grade": true,
     "grade_id": "cell-2f7bbc264cc887a0",
     "locked": true,
     "points": 5,
     "schema_version": 1,
     "solution": false
    },
    "scrolled": true
   },
   "outputs": [],
   "source": [
    "# Sanity check:\n",
    "np.random.seed(1243)\n",
    "w = np.zeros((28*28, 10))\n",
    "b = np.zeros(10)\n",
    "    \n",
    "logp_train, W, b = sgd_iter(x_train[:5], t_train[:5], w, b)\n",
    "\n",
    "\n",
    "\n",
    "### BEGIN HIDDEN TESTS\n",
    "assert W.shape == (28**2, 10)\n",
    "assert b.shape == (10,)\n",
    "assert np.max(np.abs(W) < 0.1)\n",
    "assert np.max(np.abs(b) > 0)\n",
    "### END HIDDEN TESTS"
   ]
  },
  {
   "cell_type": "markdown",
   "metadata": {
    "nbgrader": {
     "grade": false,
     "grade_id": "cell-81634c804e1f93fc",
     "locked": true,
     "schema_version": 1,
     "solution": false
    }
   },
   "source": [
    "## 1.2. Train\n",
    "\n",
    "### 1.2.1 Train (12 points)\n",
    "Perform SGD on the training set. Plot (in one graph) the conditional log-probability of the training set and validation set after each iteration. (6 points)\n",
    "\n",
    "Instead of running SGD for a fixed number of steps, run it until convergence. Think of a reasonable criterion for determining convergence. As a reference: choose a criterion such that the algorithm terminates in less than 15 iterations over the training set. (2 points)\n",
    "\n",
    "Make sure your implementation (in particular, the output of the conditional log-probability of the training set and validation set) is independent of the size of the dataset. (2 points)"
   ]
  },
  {
   "cell_type": "code",
   "execution_count": 13,
   "metadata": {
    "nbgrader": {
     "grade": true,
     "grade_id": "cell-20a347ba4db6e82c",
     "locked": false,
     "points": 10,
     "schema_version": 1,
     "solution": true
    }
   },
   "outputs": [
    {
     "name": "stdout",
     "output_type": "stream",
     "text": [
      "iter=  1, logp=  -1.217, logp_valid=  -0.798, delta in logp_valid=   0.960\n",
      "iter=  2, logp=  -0.682, logp_valid=  -0.612, delta in logp_valid=   0.234\n",
      "iter=  3, logp=  -0.562, logp_valid=  -0.537, delta in logp_valid=   0.123\n",
      "iter=  4, logp=  -0.504, logp_valid=  -0.494, delta in logp_valid=   0.079\n",
      "iter=  5, logp=  -0.469, logp_valid=  -0.466, delta in logp_valid=   0.056\n",
      "iter=  6, logp=  -0.444, logp_valid=  -0.446, delta in logp_valid=   0.043\n",
      "iter=  7, logp=  -0.426, logp_valid=  -0.431, delta in logp_valid=   0.034\n",
      "iter=  8, logp=  -0.412, logp_valid=  -0.418, delta in logp_valid=   0.029\n",
      "iter=  9, logp=  -0.401, logp_valid=  -0.409, delta in logp_valid=   0.023\n",
      "iter= 10, logp=  -0.391, logp_valid=  -0.400, delta in logp_valid=   0.021\n",
      "iter= 11, logp=  -0.383, logp_valid=  -0.393, delta in logp_valid=   0.018\n"
     ]
    },
    {
     "data": {
      "image/png": "[encoded data removed]",
      "text/plain": [
       "<matplotlib.figure.Figure at 0x1a3250d080>"
      ]
     },
     "metadata": {
      "needs_background": "light"
     },
     "output_type": "display_data"
    }
   ],
   "source": [
    "\n",
    "def test_sgd(x_train, t_train, x_valid, t_valid, w, b):\n",
    "    ### BEGIN SOLUTION\n",
    "    def logreg_logp(x, t, w, b):\n",
    "        logq = np.dot(x, w) + b\n",
    "        amax = np.max(logq, axis=-1)\n",
    "        logz = amax + np.log(np.sum(np.exp(logq - amax), axis=-1))\n",
    "        return logq[:,t] - logz\n",
    "    \n",
    "    logp_train = []\n",
    "    logp_valid = []\n",
    "    \n",
    "    old_logp_valid = -20\n",
    "    _logp_valid = -10\n",
    "    j = 0\n",
    "    \n",
    "    delta = 10\n",
    "    \n",
    "    # we use a change in _logp_valid of less the 2%\n",
    "    while (delta > 0.02):\n",
    "        _logp_train, w, b = sgd_iter(x_train, t_train, w, b)\n",
    "        _logp_train = _logp_train/x_train.shape[0]\n",
    "        _logp_valid = mean([logreg_logp(x_valid[i:i+1, :], t_valid[i], w, b) for i in range(x_valid.shape[0])])\n",
    "        logp_train.append(_logp_train)\n",
    "        logp_valid.append(_logp_valid)\n",
    "        delta = 1-_logp_valid/old_logp_valid        \n",
    "        print('iter={0:3d}, logp={1:8.3f}, logp_valid={2:8.3f}, delta in logp_valid={3:8.3f}'.format(\n",
    "        j+1, _logp_train, _logp_valid, delta))\n",
    "        old_logp_valid = _logp_valid\n",
    "        j+=1\n",
    "                \n",
    "    plt.plot(logp_train, '--', c = 'r', label = 'train')\n",
    "    plt.plot(logp_valid,  c = 'r',label = 'validation')\n",
    "    \n",
    "    plt.legend()\n",
    "    \n",
    "    plt.show()\n",
    "    return w,b\n",
    "    \n",
    "    ### END SOLUTION\n",
    "    \n",
    "np.random.seed(1243)\n",
    "w = np.zeros((28*28, 10))\n",
    "b = np.zeros(10)\n",
    "w,b = test_sgd(x_train, t_train, x_valid, t_valid, w, b)"
   ]
  },
  {
   "cell_type": "code",
   "execution_count": 14,
   "metadata": {
    "nbgrader": {
     "grade": true,
     "grade_id": "cell-b290fe89d0aa4ffb",
     "locked": true,
     "points": 2,
     "schema_version": 1,
     "solution": false
    }
   },
   "outputs": [],
   "source": [
    "# Hidden tests for efficiency\n",
    "### BEGIN HIDDEN TESTS\n",
    "# For an efficient implementation, **no more than 2 loops** are necessary. \n",
    "### END HIDDEN TESTS"
   ]
  },
  {
   "cell_type": "markdown",
   "metadata": {
    "nbgrader": {
     "grade": false,
     "grade_id": "cell-cf7f3da57d19493a",
     "locked": true,
     "schema_version": 1,
     "solution": false
    }
   },
   "source": [
    "### 1.2.2 Visualize weights (10 points)\n",
    "Visualize the resulting parameters $\\bW$ after a few iterations through the training set, by treating each column of $\\bW$ as an image. If you want, you can use or edit the `plot_digits(...)` above.\n"
   ]
  },
  {
   "cell_type": "code",
   "execution_count": 15,
   "metadata": {
    "nbgrader": {
     "grade": true,
     "grade_id": "cell-b10656f35fac065e",
     "locked": false,
     "points": 5,
     "schema_version": 1,
     "solution": true
    }
   },
   "outputs": [
    {
     "data": {
      "image/png": "[encoded data removed]",
      "text/plain": [
       "<matplotlib.figure.Figure at 0x1a32576ef0>"
      ]
     },
     "metadata": {
      "needs_background": "light"
     },
     "output_type": "display_data"
    }
   ],
   "source": [
    "### BEGIN SOLUTION\n",
    "plot_digits(w.T, num_cols=5, targets=np.arange(10))\n",
    "### END SOLUTION"
   ]
  },
  {
   "cell_type": "markdown",
   "metadata": {
    "nbgrader": {
     "grade": true,
     "grade_id": "cell-eb131c8b7303da38",
     "locked": false,
     "points": 5,
     "schema_version": 1,
     "solution": true
    }
   },
   "source": [
    "**Describe in less than 100 words why these weights minimize the loss**\n",
    "### BEGIN SOLUTION\n",
    "5 points if the answer shows that the students have given proper thought to the model.\n",
    "\n",
    "* example answer: *\n",
    "The positive (black) weights increase the likelihood for the respective class and spatial location. The negative weights (white) decrease the likelihood. \n",
    "\n",
    "This weight visualization effectively indicates which pixel contribute postively and negatively to a certain class.\n",
    "### END SOLUTION"
   ]
  },
  {
   "cell_type": "markdown",
   "metadata": {
    "nbgrader": {
     "grade": false,
     "grade_id": "cell-f36d974d9ef34c97",
     "locked": true,
     "schema_version": 1,
     "solution": false
    }
   },
   "source": [
    "### 1.2.3. Visualize the 8 hardest and 8 easiest digits (10 points)\n",
    "Visualize the 8 digits in the validation set with the highest probability of the true class label under the model.\n",
    "Also plot the 8 digits that were assigned the lowest probability.\n"
   ]
  },
  {
   "cell_type": "code",
   "execution_count": 16,
   "metadata": {
    "nbgrader": {
     "grade": true,
     "grade_id": "cell-3802d61680deeff5",
     "locked": false,
     "points": 5,
     "schema_version": 1,
     "solution": true
    }
   },
   "outputs": [
    {
     "data": {
      "image/png": "[encoded data removed]",
      "text/plain": [
       "<matplotlib.figure.Figure at 0x1a325f6b70>"
      ]
     },
     "metadata": {
      "needs_background": "light"
     },
     "output_type": "display_data"
    },
    {
     "data": {
      "image/png": "[encoded data removed]",
      "text/plain": [
       "<matplotlib.figure.Figure at 0x1a37c5dba8>"
      ]
     },
     "metadata": {
      "needs_background": "light"
     },
     "output_type": "display_data"
    }
   ],
   "source": [
    "### BEGIN_SOLUTION\n",
    "def logreg_logp(x, t, w, b):\n",
    "    logq = np.dot(x, w) + b\n",
    "    amax = np.max(logq, axis=-1, keepdims=True)\n",
    "    logz = amax + np.log(np.sum(np.exp(logq - amax), axis=-1, keepdims=True))\n",
    "    return logq[np.arange(len(t)), t] - logz.squeeze()\n",
    "\n",
    "N = 8\n",
    "logp_valid = logreg_logp(x_valid, t_valid, w, b)\n",
    "easiest = np.argpartition(logp_valid, -N)[-N:]\n",
    "hardest = np.argpartition(-logp_valid, -N)[-N:]\n",
    "\n",
    "plot_digits(x_valid[easiest], num_cols=4)\n",
    "plot_digits(x_valid[hardest], num_cols=4)\n",
    "### END SOLUTION"
   ]
  },
  {
   "cell_type": "markdown",
   "metadata": {
    "nbgrader": {
     "grade": true,
     "grade_id": "cell-6564a51fdda06d95",
     "locked": false,
     "points": 5,
     "schema_version": 1,
     "solution": true
    }
   },
   "source": [
    "Ask yourself if these results make sense. Explain in no more then two sentences what it means that a digit is hard to classify.\n",
    "\n",
    "### BEGIN SOLUTION\n",
    "5 points if the answer shows that the students have given proper thought to the model.\n",
    "Extension to the open question above in 1.2.2.\n",
    "Easy to classify digits can be seen as similar to prototypical digits for this class and therefore the learned weight for the class describe them very well.  Digits that are hard to classify differ substantially from the learned weights for the class.\n",
    "### END SOLUTION"
   ]
  },
  {
   "cell_type": "markdown",
   "metadata": {
    "nbgrader": {
     "grade": false,
     "grade_id": "cell-2c525344c99e5b26",
     "locked": true,
     "schema_version": 1,
     "solution": false
    }
   },
   "source": [
    "# Part 2. Multilayer perceptron\n",
    "\n",
    "\n",
    "You discover that the predictions by the logistic regression classifier are not good enough for your application: the model is too simple. You want to increase the accuracy of your predictions by using a better model. For this purpose, you're going to use a multilayer perceptron (MLP), a simple kind of neural network. The perceptron will have a single hidden layer $\\bh$ with $L$ elements. The parameters of the model are $\\bV$ (connections between input $\\bx$ and hidden layer $\\bh$), $\\ba$ (the biases/intercepts of $\\bh$), $\\bW$ (connections between $\\bh$ and $\\log q$) and $\\bb$ (the biases/intercepts of $\\log q$).\n",
    "\n",
    "The conditional probability of the class label $j$ is given by:\n",
    "\n",
    "$\\log p(t = j \\;|\\; \\bx, \\bb, \\bW) = \\log q_j - \\log Z$\n",
    "\n",
    "where $q_j$ are again the unnormalized probabilities per class, and $Z = \\sum_j q_j$ is again the probability normalizing factor. Each $q_j$ is computed using:\n",
    "\n",
    "$\\log q_j = \\bw_j^T \\bh + b_j$\n",
    "\n",
    "where $\\bh$ is a $L \\times 1$ vector with the hidden layer activations (of a hidden layer with size $L$), and $\\bw_j$ is the $j$-th column of $\\bW$ (a $L \\times 10$ matrix). Each element of the hidden layer is computed from the input vector $\\bx$ using:\n",
    "\n",
    "$h_j = \\sigma(\\bv_j^T \\bx + a_j)$\n",
    "\n",
    "where $\\bv_j$ is the $j$-th column of $\\bV$ (a $784 \\times L$ matrix), $a_j$ is the $j$-th element of $\\ba$, and $\\sigma(.)$ is the so-called sigmoid activation function, defined by:\n",
    "\n",
    "$\\sigma(x) = \\frac{1}{1 + \\exp(-x)}$\n",
    "\n",
    "Note that this model is almost equal to the multiclass logistic regression model, but with an extra 'hidden layer' $\\bh$. The activations of this hidden layer can be viewed as features computed from the input, where the feature transformation ($\\bV$ and $\\ba$) is learned.\n",
    "\n",
    "## 2.1 Derive gradient equations (20 points)\n",
    "\n",
    "State (shortly) why $\\nabla_{\\bb} \\mathcal{L}^{(n)}$ is equal to the earlier (multiclass logistic regression) case, and why $\\nabla_{\\bw_j} \\mathcal{L}^{(n)}$ is almost equal to the earlier case.\n",
    "\n",
    "Like in multiclass logistic regression, you should use intermediate variables $\\mathbf{\\delta}_j^q$. In addition, you should use intermediate variables $\\mathbf{\\delta}_j^h = \\frac{\\partial \\mathcal{L}^{(n)}}{\\partial h_j}$.\n",
    "\n",
    "Given an input image, roughly the following intermediate variables should be computed:\n",
    "\n",
    "$\n",
    "\\log \\bq \\rightarrow Z \\rightarrow \\log \\bp \\rightarrow \\mathbf{\\delta}^q \\rightarrow \\mathbf{\\delta}^h\n",
    "$\n",
    "\n",
    "where $\\mathbf{\\delta}_j^h = \\frac{\\partial \\mathcal{L}^{(n)}}{\\partial \\bh_j}$.\n",
    "\n",
    "Give the equations for computing $\\mathbf{\\delta}^h$, and for computing the derivatives of $\\mathcal{L}^{(n)}$ w.r.t. $\\bW$, $\\bb$, $\\bV$ and $\\ba$. \n",
    "\n",
    "You can use the convenient fact that $\\frac{\\partial}{\\partial x} \\sigma(x) = \\sigma(x) (1 - \\sigma(x))$."
   ]
  },
  {
   "cell_type": "markdown",
   "metadata": {
    "nbgrader": {
     "grade": true,
     "grade_id": "cell-48f48bb8ec75cc3c",
     "locked": false,
     "points": 20,
     "schema_version": 1,
     "solution": true
    }
   },
   "source": [
    "### BEGIN SOLUTION\n",
    "$\n",
    "\\frac{\\partial \\mathcal{L}^{(n)}}{\\partial b_{j}}\n",
    "= \\delta_j^q\n",
    "$\n",
    "\n",
    "$\n",
    "\\frac{\\partial \\mathcal{L}^{(n)}}{\\partial W_{ij}}\n",
    "= \\delta_j^q h_i\n",
    "$\n",
    "\n",
    "$\n",
    "\\frac{\\partial \\mathcal{L}^{(n)}}{\\partial h_{j}}\n",
    "= \\sum_k \\delta_k^q W_{jk} = \\delta_j^h\n",
    "$\n",
    "\n",
    "$\n",
    "\\frac{\\partial \\mathcal{L}^{(n)}}{\\partial a_{j}}\n",
    "= \\delta_j^h h_j(1-h_j)\n",
    "$\n",
    "\n",
    "$\n",
    "\\frac{\\partial \\mathcal{L}^{(n)}}{\\partial V_{ij}}\n",
    "= \\delta_j^h h_j(1-h_j)x_i\n",
    "$\n",
    "### END SOLUTION"
   ]
  },
  {
   "cell_type": "markdown",
   "metadata": {
    "nbgrader": {
     "grade": false,
     "grade_id": "cell-0bff945081e993fc",
     "locked": true,
     "schema_version": 1,
     "solution": false
    }
   },
   "source": [
    "## 2.2 MAP optimization (10 points)\n",
    "\n",
    "You derived equations for finding the _maximum likelihood_ solution of the parameters. Explain, in a few sentences, how you could extend this approach so that it optimizes towards a _maximum a posteriori_ (MAP) solution of the parameters, with a Gaussian prior on the parameters. "
   ]
  },
  {
   "cell_type": "markdown",
   "metadata": {
    "nbgrader": {
     "grade": true,
     "grade_id": "cell-1daef2744c010b73",
     "locked": false,
     "points": 10,
     "schema_version": 1,
     "solution": true
    }
   },
   "source": [
    "### BEGIN SOLUTION\n",
    "$ \\log p(t = j \\;|\\; \\bx, \\bb, \\bW, \\ba, \\bV) = \\log q_j - \\log Z$\n",
    "\n",
    "Bayes' theorem:\n",
    "$\\log p(\\bx \\;|\\; \\bb, \\bW, \\ba, \\bV,  t = j) = \\log p(t = j \\;|\\; \\bx, \\bb, \\bW, \\ba, \\bV) + \\log prior + const$\n",
    "\n",
    "Prior:\n",
    "$p(\\bW \\;|\\; \\alpha_1)p(\\bV \\;|\\; \\alpha_2)$. They are Gaussians\n",
    "\n",
    "We obtain\n",
    "$\\log p(\\bx \\;|\\; \\bb, \\bW, \\ba, \\bV,  t = j) = \\log q_j - \\log Z - \\frac{\\alpha_1}{2}\\bw_j^T\\bw_j - \\frac{\\alpha_2}{2}\\bv_j^T\\bv_j$\n",
    "\n",
    "$\n",
    "\\frac{\\partial \\mathcal{L}^{(n)}}{\\partial W_{ij}}\n",
    "= \\delta_j^q h_i - \\alpha_1 W_{ij}\n",
    "$\n",
    "\n",
    "$\n",
    "\\frac{\\partial \\mathcal{L}^{(n)}}{\\partial V_{ij}}\n",
    "= \\delta_j^h h_j(1-h_j)x_i - \\alpha_2 V_{ij}\n",
    "$\n",
    "### END SOLUTION"
   ]
  },
  {
   "cell_type": "markdown",
   "metadata": {
    "nbgrader": {
     "grade": false,
     "grade_id": "cell-2e56d8a567e2fb08",
     "locked": true,
     "schema_version": 1,
     "solution": false
    }
   },
   "source": [
    "## 2.3. Implement and train a MLP (15 points)\n",
    "\n",
    "Implement an MLP model with a single hidden layer of **20 neurons**. \n",
    "Train the model for **10 epochs**.\n",
    "Test your implementation for learning rates of 1e-2, 1e-3 and 1e-4 and plot (in one graph) the conditional log-probability of the trainingset and validation set. \n",
    "\n",
    "For the best model plot the weights of the first layer for in epoch 0,4 and 9. \n",
    "\n",
    "\n",
    "- 10 points: Working MLP that learns with plots\n",
    "- +5 points: Fast, numerically stable, vectorized implementation"
   ]
  },
  {
   "cell_type": "code",
   "execution_count": 17,
   "metadata": {
    "nbgrader": {
     "grade": true,
     "grade_id": "cell-5d1924ace9e216e2",
     "locked": false,
     "points": 0,
     "schema_version": 1,
     "solution": true
    }
   },
   "outputs": [
    {
     "name": "stdout",
     "output_type": "stream",
     "text": [
      "[-2.25409164]\n"
     ]
    }
   ],
   "source": [
    "# Write all helper functions here\n",
    "### BEGIN SOLUTION\n",
    "# 5 points for efficient, numerically stable implementation.\n",
    "def sigmoid(z):\n",
    "    return 1.0 / (1.0 + np.exp(-z))\n",
    "\n",
    "def mlp_logp(x, t, v, a, w, b):\n",
    "    h = sigmoid(np.dot(x, v) + a)\n",
    "    logq = np.dot(h, w) + b\n",
    "    amax = np.max(logq, axis=-1, keepdims=True)\n",
    "    logz = np.log(np.exp(logq).sum(axis=-1, keepdims=True))\n",
    "    logp = logq - logz\n",
    "    logpt = logp[:,t]\n",
    "    return logpt\n",
    "\n",
    "L = 20\n",
    "\n",
    "v = 1e-2 * np.random.standard_normal(size=(28*28, L, ))\n",
    "a = 1e-2 * np.random.standard_normal(size=(L))\n",
    "w = 1e-2 * np.random.standard_normal(size=(L, 10))\n",
    "b = 1e-2 * np.random.standard_normal(size=(10))\n",
    "\n",
    "print(mlp_logp(x_train[0:1], t_train[0], v, a, w, b))\n",
    "\n",
    "def mlp_gradient(x, t, v, a, w, b):\n",
    "    h = sigmoid(np.dot(x, v) + a)\n",
    "    logq = np.dot(h, w) + b\n",
    "    amax = np.max(logq, axis=-1, keepdims=True)\n",
    "    logz = np.log(np.exp(logq).sum(axis=-1, keepdims=True))\n",
    "    logp = logq - logz\n",
    "    logpt = logp[:,t]\n",
    "    \n",
    "    # dL_dlogq = dL/dlogz * dlogz/dz * dz/dq * dq/dlogq\n",
    "    # = 1/z * 1 * q = q/z\n",
    "    dL_dlogq = - np.exp(logq)/np.exp(logq).sum(axis=-1)\n",
    "    dL_dlogq[:, t] += 1\n",
    "    \n",
    "    # dL_dwij = dL_dlogqi * dlogqi_dwij = dlogpi_dlogq * zj\n",
    "    # 10xL = 10x1  1xL\n",
    "    dL_db = dL_dlogq.squeeze()\n",
    "    dL_dw = np.dot(h.T, dL_dlogq)\n",
    "    \n",
    "    # dL_dhj\n",
    "    dL_dh = np.dot(w, dL_dlogq.T)\n",
    "    dL_dh_ = h * (1-h) * dL_dh.T\n",
    "    dL_da = dL_dh_.squeeze()\n",
    "    dL_dv = np.dot(x.T, dL_dh_)\n",
    "    \n",
    "    return logpt, dL_dv, dL_da, dL_dw, dL_db\n",
    "\n",
    "def sgd_iter_mlp(x_train, t_train, v, a, w, b, plot=False, stepsize=1e-4):\n",
    "    indexes = np.arange(x_train.shape[0])\n",
    "    np.random.shuffle(indexes)\n",
    "    \n",
    "    logp_train = 0\n",
    "    for idx in indexes:\n",
    "        logp, grad_v, grad_a, grad_w, grad_b = mlp_gradient(x_train[idx:idx+1,:], t_train[idx], v, a, w, b)\n",
    "        v += stepsize * grad_v\n",
    "        a += stepsize * grad_a\n",
    "        w += stepsize * grad_w\n",
    "        b += stepsize * grad_b\n",
    "        logp_train += logp\n",
    "    \n",
    "    if plot:\n",
    "        plot_digits(w, numcols=5)\n",
    "    return logp_train, w, b\n",
    "### END SOLUTION"
   ]
  },
  {
   "cell_type": "code",
   "execution_count": 18,
   "metadata": {
    "nbgrader": {
     "grade": true,
     "grade_id": "cell-94b75f65d3038a67",
     "locked": true,
     "points": 5,
     "schema_version": 1,
     "solution": false
    }
   },
   "outputs": [],
   "source": [
    "# Hidden tests for efficiency\n",
    "### BEGIN HIDDEN TESTS\n",
    "# For an efficient implementation of the helper function **no more than one loop** is necessary. \n",
    "### END HIDDEN TESTS"
   ]
  },
  {
   "cell_type": "code",
   "execution_count": 19,
   "metadata": {
    "nbgrader": {
     "grade": true,
     "grade_id": "cell-e9b2125a5ea8a22c",
     "locked": false,
     "points": 10,
     "schema_version": 1,
     "solution": true
    },
    "scrolled": false
   },
   "outputs": [
    {
     "name": "stdout",
     "output_type": "stream",
     "text": [
      "Train model:\n",
      "\n",
      "\n",
      "learing rate 0.01\n",
      "\n",
      "\n",
      "iter=  0, logp=  -0.597, logp_valid=  -0.286\n",
      "iter=  1, logp=  -0.247, logp_valid=  -0.249\n",
      "iter=  2, logp=  -0.209, logp_valid=  -0.214\n",
      "iter=  3, logp=  -0.187, logp_valid=  -0.199\n",
      "iter=  4, logp=  -0.171, logp_valid=  -0.185\n",
      "iter=  5, logp=  -0.160, logp_valid=  -0.177\n",
      "iter=  6, logp=  -0.150, logp_valid=  -0.170\n",
      "iter=  7, logp=  -0.141, logp_valid=  -0.168\n",
      "iter=  8, logp=  -0.135, logp_valid=  -0.170\n",
      "iter=  9, logp=  -0.129, logp_valid=  -0.163\n",
      "\n",
      "\n",
      "learing rate 0.001\n",
      "\n",
      "\n",
      "iter=  0, logp=  -1.994, logp_valid=  -1.298\n",
      "iter=  1, logp=  -0.909, logp_valid=  -0.669\n",
      "iter=  2, logp=  -0.556, logp_valid=  -0.480\n",
      "iter=  3, logp=  -0.429, logp_valid=  -0.400\n",
      "iter=  4, logp=  -0.369, logp_valid=  -0.359\n",
      "iter=  5, logp=  -0.335, logp_valid=  -0.334\n",
      "iter=  6, logp=  -0.313, logp_valid=  -0.315\n",
      "iter=  7, logp=  -0.296, logp_valid=  -0.303\n",
      "iter=  8, logp=  -0.283, logp_valid=  -0.291\n",
      "iter=  9, logp=  -0.272, logp_valid=  -0.282\n",
      "\n",
      "\n",
      "learing rate 0.0001\n",
      "\n",
      "\n",
      "iter=  0, logp=  -2.301, logp_valid=  -2.299\n",
      "iter=  1, logp=  -2.298, logp_valid=  -2.294\n",
      "iter=  2, logp=  -2.291, logp_valid=  -2.282\n",
      "iter=  3, logp=  -2.268, logp_valid=  -2.244\n",
      "iter=  4, logp=  -2.206, logp_valid=  -2.152\n",
      "iter=  5, logp=  -2.080, logp_valid=  -1.990\n",
      "iter=  6, logp=  -1.895, logp_valid=  -1.788\n",
      "iter=  7, logp=  -1.694, logp_valid=  -1.594\n",
      "iter=  8, logp=  -1.512, logp_valid=  -1.427\n",
      "iter=  9, logp=  -1.358, logp_valid=  -1.288\n"
     ]
    }
   ],
   "source": [
    "# Write training code here:\n",
    "# Plot the conditional loglikelihoods for the train and validation dataset after every iteration.\n",
    "# Plot the weights of the first layer.\n",
    "\n",
    "# \n",
    "\n",
    "### BEGIN SOLUTION\n",
    "# 10 points for a working solution with training plots.\n",
    "def test_sgd_mlp(lr):\n",
    "    np.random.seed(1234)\n",
    "    L = 20\n",
    "\n",
    "    v = 1e-2 * np.random.standard_normal(size=(28*28, L, ))\n",
    "    a = 1e-2 * np.random.standard_normal(size=(L))\n",
    "    w = 1e-2 * np.random.standard_normal(size=(L, 10))\n",
    "    b = 1e-2 * np.random.standard_normal(size=(10))\n",
    "\n",
    "    logp_train = []\n",
    "    logp_valid = []\n",
    "    v_list = []\n",
    "    for it in range(10):\n",
    "        _logp_train, w, b = sgd_iter_mlp(x_train, t_train, v, a, w, b, stepsize = lr)\n",
    "        _logp_valid = mean([mlp_logp(x_valid[i:i+1, :], t_valid[i], v, a, w, b) for i in range(x_valid.shape[0])])\n",
    "        _logp_train = _logp_train/x_train.shape[0]\n",
    "        logp_train.append(_logp_train)\n",
    "        logp_valid.append(_logp_valid)\n",
    "        \n",
    "        print('iter={0:3d}, logp={1:8.3f}, logp_valid={2:8.3f}'.format(it, _logp_train[0], _logp_valid))\n",
    "\n",
    "        if it in [0,4,9]:\n",
    "            v_list.append(v.T)\n",
    "            \n",
    "    return logp_train, logp_valid, v_list\n",
    "        \n",
    "learning_rate = [1e-2, 1e-3, 1e-4]\n",
    "\n",
    "_logp_train = []\n",
    "_logp_valid = []\n",
    "_v_list = []\n",
    "\n",
    "print('Train model:')\n",
    "# train over differnt learning rates\n",
    "for l in learning_rate:\n",
    "    \n",
    "    print('\\n\\nlearing rate {}\\n\\n'.format(l))\n",
    "    \n",
    "    logp_train, logp_valid, v_list = test_sgd_mlp(l)\n",
    "    \n",
    "    _logp_train.append(logp_train)\n",
    "    _logp_valid.append(logp_valid)\n",
    "    _v_list.append(v_list)\n",
    "\n",
    "\n",
    "    \n",
    "### END SOLUTION"
   ]
  },
  {
   "cell_type": "code",
   "execution_count": 20,
   "metadata": {
    "nbgrader": {
     "grade": true,
     "grade_id": "cell-b90dafbb9f41c1ed",
     "locked": false,
     "points": 0,
     "schema_version": 1,
     "solution": true
    }
   },
   "outputs": [
    {
     "data": {
      "image/png": "[encoded data removed]",
      "text/plain": [
       "<matplotlib.figure.Figure at 0x7f75bb844c88>"
      ]
     },
     "metadata": {
      "needs_background": "light"
     },
     "output_type": "display_data"
    }
   ],
   "source": [
    "# plot the train and validation logp for all three learning rates in one figure\n",
    "\n",
    "### BEGIN SOLUTION\n",
    "\n",
    "color = ['r', 'g', 'b']\n",
    "\n",
    "for i in range(len(learning_rate)):\n",
    "    plt.plot(_logp_train[i], '--', c = color[i])\n",
    "    plt.plot(_logp_valid[i], c = color[i], label = 'lr: {}'.format(learning_rate[i]))\n",
    "    \n",
    "    plt.legend()\n",
    "    \n",
    "### END SOLUTION    \n",
    "    "
   ]
  },
  {
   "cell_type": "markdown",
   "metadata": {
    "nbgrader": {
     "grade": false,
     "grade_id": "cell-5b926040b792b57a",
     "locked": true,
     "schema_version": 1,
     "solution": false
    }
   },
   "source": [
    "### 2.3.1. Explain the learning curves (5 points)\n",
    "In less than 80 words, explain the observed behaviour for the different learning rates."
   ]
  },
  {
   "cell_type": "markdown",
   "metadata": {
    "nbgrader": {
     "grade": true,
     "grade_id": "cell-8858cbe0e4dd02c7",
     "locked": false,
     "points": 5,
     "schema_version": 1,
     "solution": true
    }
   },
   "source": [
    "### BEGIN SOLUTION\n",
    "\n",
    "\n",
    "### END SOLUTION"
   ]
  },
  {
   "cell_type": "markdown",
   "metadata": {
    "nbgrader": {
     "grade": false,
     "grade_id": "cell-6ae8cb5a4c246b97",
     "locked": true,
     "schema_version": 1,
     "solution": false
    }
   },
   "source": [
    "### 2.3.2. Explain the weights (5 points)\n",
    "In less than 80 words, explain how and why the weights of the hidden layer of the MLP differ from the logistic regression model, and relate this to the stronger performance of the MLP."
   ]
  },
  {
   "cell_type": "code",
   "execution_count": 21,
   "metadata": {
    "nbgrader": {
     "grade": true,
     "grade_id": "cell-69b3830258566c6d",
     "locked": false,
     "points": 0,
     "schema_version": 1,
     "solution": true
    }
   },
   "outputs": [
    {
     "name": "stdout",
     "output_type": "stream",
     "text": [
      "best model index 0, with learning rate 0.01\n",
      "\n",
      "weights after epoch 0\n",
      "\n"
     ]
    },
    {
     "data": {
      "image/png": "[encoded data removed]",
      "text/plain": [
       "<matplotlib.figure.Figure at 0x1a32173e48>"
      ]
     },
     "metadata": {
      "needs_background": "light"
     },
     "output_type": "display_data"
    },
    {
     "name": "stdout",
     "output_type": "stream",
     "text": [
      "\n",
      "weights after epoch 4\n",
      "\n"
     ]
    },
    {
     "data": {
      "image/png": "[encoded data removed]",
      "text/plain": [
       "<matplotlib.figure.Figure at 0x1a37f476d8>"
      ]
     },
     "metadata": {
      "needs_background": "light"
     },
     "output_type": "display_data"
    },
    {
     "name": "stdout",
     "output_type": "stream",
     "text": [
      "\n",
      "weights after epoch 9\n",
      "\n"
     ]
    },
    {
     "data": {
      "image/png": "[encoded data removed]",
      "text/plain": [
       "<matplotlib.figure.Figure at 0x1a37a29eb8>"
      ]
     },
     "metadata": {
      "needs_background": "light"
     },
     "output_type": "display_data"
    }
   ],
   "source": [
    "# Plot the weights of the first layer for the best model \n",
    "\n",
    "### BEGIN SOLUTION\n",
    "\n",
    "best_model_idx = 10\n",
    "best_logp = -10\n",
    "for i, log_v in enumerate(_logp_valid):\n",
    "    if max(log_v)>best_logp:\n",
    "        best_logp = max(log_v)\n",
    "        best_model_idx = i\n",
    "    \n",
    "print('best model index {}, with learning rate {}'.format(best_model_idx, learning_rate[best_model_idx]))\n",
    "\n",
    "for i, epoch in enumerate([0,4,9]):\n",
    "    \n",
    "    print('\\nweights after epoch {}\\n'.format(epoch))\n",
    "    plot_digits(_v_list[2][i], num_cols=5)\n",
    "    \n",
    "### END SOLUTION  "
   ]
  },
  {
   "cell_type": "markdown",
   "metadata": {
    "nbgrader": {
     "grade": true,
     "grade_id": "cell-c4fdc27b1aab6828",
     "locked": false,
     "points": 5,
     "schema_version": 1,
     "solution": true
    }
   },
   "source": [
    "### BEGIN SOLUTION\n",
    "(5 points if the answer illustrates that the student has given thought to the learning process and the conceptual differences between logistic regression and the MLP)\n",
    "\n",
    "*example answer*:\n",
    "The MLP learns an intermediate representation. Hence the weights do not directly have to capture the full structure of the digits as in the log.reg. model, but can rather capture sub-structures that are useful for classifying the digits. \n",
    "\n",
    "*example answer:*\n",
    "Digits can have multiple forms (e.g. the two versions of a written 4). The MLP can learn features that capture both forms accuractly, while the log. reg. model has to resign to one set of weights that must captures both structures, which impedes performance.\n",
    "### END SOLUTION"
   ]
  },
  {
   "cell_type": "markdown",
   "metadata": {
    "nbgrader": {
     "grade": false,
     "grade_id": "cell-d10e996556dd40e5",
     "locked": true,
     "schema_version": 1,
     "solution": false
    }
   },
   "source": [
    "### 2.3.2. Different activation functions (10 points)\n",
    "In the task above we use a sigmoid as an activation function.\n",
    "Two other popular choices for activation functions are tanh and the rectified linear unit (ReLU). The ReLU is defined as:\n",
    "\n",
    "$$f(x) = \\max(0.,x)$$\n",
    "\n",
    "You already derived the derivative of the softmax function above. Here, write down the derivative for both the tanh and the ReLU function. Furthermore, for all three, plot the function and its derivative in a range $x\\in[-3,3]$"
   ]
  },
  {
   "cell_type": "markdown",
   "metadata": {
    "nbgrader": {
     "grade": true,
     "grade_id": "cell-e049422b1f9ce35e",
     "locked": false,
     "points": 0,
     "schema_version": 1,
     "solution": true
    }
   },
   "source": [
    "Write down the derivative of ReLU and tanh w.r.t. their respective argument:\n",
    "\n",
    "### BEGIN SOLUTION\n",
    "ReLU\n",
    "$$ \\frac{\\partial}{\\partial x}f(x)=\n",
    "\\begin{cases} \n",
    "0 & \\text{if  }  x < 0 \\\\\n",
    "1 & \\text{if  }  x > 0 \\\\\n",
    "\\text{undef.} & \\text{if  }  x = 0 \\\\\n",
    "\\end{cases}\n",
    "$$\n",
    "\n",
    "tanh\n",
    "$$\\frac{\\partial}{\\partial x}f(x)=1-\\tanh^2(x)$$\n",
    "### END SOLUTION\n",
    "\n",
    "Name two properties that you would like your activation function to have (one sentence each). Why are they important?\n",
    "\n",
    "### BEGIN SOLUTION\n",
    "Possible answers:\n",
    "\n",
    "* at least first-order differentiable (almost) everywhere\n",
    " \n",
    "* mostly activated around the origin (centered activations)\n",
    "\n",
    "* non-linear\n",
    "\n",
    "* efficient to compute\n",
    "\n",
    "### END SOLUTION\n"
   ]
  },
  {
   "cell_type": "code",
   "execution_count": 22,
   "metadata": {
    "nbgrader": {
     "grade": true,
     "grade_id": "cell-ecd7fbb4f1ece014",
     "locked": false,
     "points": 5,
     "schema_version": 1,
     "solution": true
    }
   },
   "outputs": [
    {
     "data": {
      "text/plain": [
       "<function matplotlib.pyplot.show(*args, **kw)>"
      ]
     },
     "execution_count": 22,
     "metadata": {},
     "output_type": "execute_result"
    },
    {
     "data": {
      "image/png": "[encoded data removed]",
      "text/plain": [
       "<matplotlib.figure.Figure at 0x1a37ae28d0>"
      ]
     },
     "metadata": {
      "needs_background": "light"
     },
     "output_type": "display_data"
    }
   ],
   "source": [
    "# plot the function and the derivative for the activations sigmoid, tanh and ReLU.\n",
    "\n",
    "### BEGIN SOLUTION\n",
    "\n",
    "plt.rcParams[\"figure.figsize\"] = [15,5]\n",
    "\n",
    "def sigmoid(z):\n",
    "    return 1.0 / (1.0 + np.exp(-z))\n",
    "\n",
    "def sigmoid_deriv(z):\n",
    "    return sigmoid(z)*(1-sigmoid(z))\n",
    "\n",
    "def tanh(z):\n",
    "    return np.tanh(z)\n",
    "\n",
    "def tanh_deriv(z):\n",
    "    return 1.0 - tanh(z)**2\n",
    "\n",
    "def relu(z):\n",
    "    return z * (z > 0)\n",
    "    \n",
    "def relu_deriv(z):\n",
    "    return 1. * (x > 0)\n",
    "\n",
    "f, (ax1, ax2, ax3) = plt.subplots(1, 3, sharey='row')\n",
    "\n",
    "x = np.arange(-3,3,0.01)\n",
    "\n",
    "ax1.plot(x,sigmoid(x), c = 'r', label = 'sigmoid')\n",
    "ax1.plot(x,sigmoid_deriv(x), c = 'b', label = 'derivative of sigmoid')\n",
    "\n",
    "ax1.legend()\n",
    "\n",
    "ax2.plot(x,tanh(x), c = 'r', label = 'tanh')\n",
    "ax2.plot(x,tanh_deriv(x), c = 'b', label = 'derivative of tanh')\n",
    "\n",
    "ax2.legend()\n",
    "\n",
    "ax3.plot(x,relu(x), c = 'r', label = 'ReLU')\n",
    "ax3.plot(x,relu_deriv(x), c = 'b', label = 'derivative of ReLU')\n",
    "\n",
    "plt.legend()\n",
    "plt.show\n",
    "\n",
    "\n",
    "\n",
    "### END SOLUTION "
   ]
  },
  {
   "cell_type": "markdown",
   "metadata": {
    "nbgrader": {
     "grade": true,
     "grade_id": "cell-b80eb6b6816d09f7",
     "locked": false,
     "points": 5,
     "schema_version": 1,
     "solution": true
    }
   },
   "source": [
    "Now that you plotted the activations and derivatives, which activation do you think is the best? Why would you choose this activation function? For your answer consider what you named as essential properties for an activation function above. Keep your answer short at no more then 3 sentences.\n",
    "\n",
    "### BEGIN SOLUTION\n",
    "Possible answers:\n",
    "\n",
    "* tanh has better output range (Stronger gradients, because data is centered around 0)\n",
    "* tanh and sigmoid have both extreme saturation (gradients go to zero for large values) which leads to overconfidence \n",
    "* small gradients (smaller than one) because of the chain rule this can lead to vanishing gradients\n",
    "* sigmoid good for output layer as it returns probabilities\n",
    "* ReLU advantage: Strong gradients: either 0 or 1\n",
    "* ReLU problem: Dead neurons\n",
    "\n",
    "### END SOLUTION"
   ]
  },
  {
   "cell_type": "code",
   "execution_count": 23,
   "metadata": {
    "nbgrader": {
     "grade": false,
     "grade_id": "cell-995c4d580f198861",
     "locked": true,
     "schema_version": 1,
     "solution": false
    }
   },
   "outputs": [
    {
     "name": "stdout",
     "output_type": "stream",
     "text": [
      "Notebook ran in 3.62 minutes.\n"
     ]
    }
   ],
   "source": [
    "print('Notebook ran in {:2.3} minutes.'.format((time.time()-start)/60))"
   ]
  }
 ],
 "metadata": {
  "celltoolbar": "Create Assignment",
  "kernelspec": {
   "display_name": "Python [conda env:ml1labs]",
   "language": "python",
   "name": "conda-env-ml1labs-py"
  },
  "language_info": {
   "codemirror_mode": {
    "name": "ipython",
    "version": 3
   },
   "file_extension": ".py",
   "mimetype": "text/x-python",
   "name": "python",
   "nbconvert_exporter": "python",
   "pygments_lexer": "ipython3",
   "version": "3.6.2"
  }
 },
 "nbformat": 4,
 "nbformat_minor": 1
}
